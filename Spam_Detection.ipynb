{
 "cells": [
  {
   "cell_type": "markdown",
   "metadata": {},
   "source": [
    "# Spam Detection"
   ]
  },
  {
   "cell_type": "code",
   "execution_count": 1,
   "metadata": {},
   "outputs": [],
   "source": [
    "# import the necessary libraries\n",
    "import numpy as np\n",
    "import pandas as pd\n",
    "\n",
    "# visualization libraries\n",
    "import matplotlib.pyplot as plt\n",
    "plt.style.use('seaborn')\n",
    "import seaborn as sns\n",
    "\n",
    "# text processing\n",
    "import spacy"
   ]
  },
  {
   "cell_type": "code",
   "execution_count": 2,
   "metadata": {},
   "outputs": [
    {
     "data": {
      "text/html": [
       "<div>\n",
       "<style scoped>\n",
       "    .dataframe tbody tr th:only-of-type {\n",
       "        vertical-align: middle;\n",
       "    }\n",
       "\n",
       "    .dataframe tbody tr th {\n",
       "        vertical-align: top;\n",
       "    }\n",
       "\n",
       "    .dataframe thead th {\n",
       "        text-align: right;\n",
       "    }\n",
       "</style>\n",
       "<table border=\"1\" class=\"dataframe\">\n",
       "  <thead>\n",
       "    <tr style=\"text-align: right;\">\n",
       "      <th></th>\n",
       "      <th>Message</th>\n",
       "      <th>Label</th>\n",
       "    </tr>\n",
       "  </thead>\n",
       "  <tbody>\n",
       "    <tr>\n",
       "      <th>0</th>\n",
       "      <td>Go until jurong point, crazy.. Available only ...</td>\n",
       "      <td>ham</td>\n",
       "    </tr>\n",
       "    <tr>\n",
       "      <th>1</th>\n",
       "      <td>Ok lar... Joking wif u oni...</td>\n",
       "      <td>ham</td>\n",
       "    </tr>\n",
       "    <tr>\n",
       "      <th>2</th>\n",
       "      <td>Free entry in 2 a wkly comp to win FA Cup fina...</td>\n",
       "      <td>spam</td>\n",
       "    </tr>\n",
       "    <tr>\n",
       "      <th>3</th>\n",
       "      <td>U dun say so early hor... U c already then say...</td>\n",
       "      <td>ham</td>\n",
       "    </tr>\n",
       "    <tr>\n",
       "      <th>4</th>\n",
       "      <td>Nah I don't think he goes to usf, he lives aro...</td>\n",
       "      <td>ham</td>\n",
       "    </tr>\n",
       "  </tbody>\n",
       "</table>\n",
       "</div>"
      ],
      "text/plain": [
       "                                             Message Label\n",
       "0  Go until jurong point, crazy.. Available only ...   ham\n",
       "1                      Ok lar... Joking wif u oni...   ham\n",
       "2  Free entry in 2 a wkly comp to win FA Cup fina...  spam\n",
       "3  U dun say so early hor... U c already then say...   ham\n",
       "4  Nah I don't think he goes to usf, he lives aro...   ham"
      ]
     },
     "execution_count": 2,
     "metadata": {},
     "output_type": "execute_result"
    }
   ],
   "source": [
    "# load the data\n",
    "msgs = pd.read_csv(\"SMSSpamCollection.csv\", sep='\\t', names=['Label', 'Message'])\n",
    "\n",
    "# Rearrange the columns\n",
    "msgs = msgs[['Message', 'Label']]\n",
    "msgs.head()"
   ]
  },
  {
   "cell_type": "code",
   "execution_count": 3,
   "metadata": {},
   "outputs": [],
   "source": [
    "### Helper Functions\n",
    "\n",
    "def clean_doc(my_str):\n",
    "    \"\"\"\n",
    "    1. Convert my_str to doc (collection of spans).\n",
    "    2. Remove the stopwords and punctuations from the token_list and store in filtered_tokens.\n",
    "    3. Return filtered_tokens.\n",
    "    \"\"\"\n",
    "    \n",
    "    stop_words = nlp.Defaults.stop_words    # stopwords\n",
    "    \n",
    "   # convert to doc\n",
    "    doc = nlp(my_str)\n",
    "    \n",
    "    # filtered tokens which have been converted to strings and remove the punctuations\n",
    "    filtered_tokens = [str(token) for token in doc if token.is_stop == False and token.is_punct == False]\n",
    "    \n",
    "    return filtered_tokens\n",
    "\n",
    "\n",
    "def punct_length(msg):\n",
    "    \"\"\"\n",
    "    1. Tokenize the msg and check if the token is a punctuation.\n",
    "    2. If it's a punctuation, store to punct_list.\n",
    "    3. Return the length of punct_list.\n",
    "    \"\"\"\n",
    "    msg = nlp(msg)\n",
    "    \n",
    "    # list containing punctuations \n",
    "    punct_list = [str(token) for token in msg if token.is_punct == True]\n",
    "    \n",
    "    return len(punct_list)\n",
    "    \n",
    "    "
   ]
  },
  {
   "cell_type": "code",
   "execution_count": 4,
   "metadata": {},
   "outputs": [],
   "source": [
    "# load the spacy English model\n",
    "nlp = spacy.load(\"en_core_web_sm\")"
   ]
  },
  {
   "cell_type": "markdown",
   "metadata": {},
   "source": [
    "### Feature Engineering "
   ]
  },
  {
   "cell_type": "code",
   "execution_count": 5,
   "metadata": {},
   "outputs": [
    {
     "data": {
      "text/html": [
       "<div>\n",
       "<style scoped>\n",
       "    .dataframe tbody tr th:only-of-type {\n",
       "        vertical-align: middle;\n",
       "    }\n",
       "\n",
       "    .dataframe tbody tr th {\n",
       "        vertical-align: top;\n",
       "    }\n",
       "\n",
       "    .dataframe thead th {\n",
       "        text-align: right;\n",
       "    }\n",
       "</style>\n",
       "<table border=\"1\" class=\"dataframe\">\n",
       "  <thead>\n",
       "    <tr style=\"text-align: right;\">\n",
       "      <th></th>\n",
       "      <th>Message</th>\n",
       "      <th>Label</th>\n",
       "      <th>Message_Length</th>\n",
       "      <th>Punct_Length</th>\n",
       "    </tr>\n",
       "  </thead>\n",
       "  <tbody>\n",
       "    <tr>\n",
       "      <th>0</th>\n",
       "      <td>Go until jurong point, crazy.. Available only ...</td>\n",
       "      <td>ham</td>\n",
       "      <td>111</td>\n",
       "      <td>4</td>\n",
       "    </tr>\n",
       "    <tr>\n",
       "      <th>1</th>\n",
       "      <td>Ok lar... Joking wif u oni...</td>\n",
       "      <td>ham</td>\n",
       "      <td>29</td>\n",
       "      <td>2</td>\n",
       "    </tr>\n",
       "    <tr>\n",
       "      <th>2</th>\n",
       "      <td>Free entry in 2 a wkly comp to win FA Cup fina...</td>\n",
       "      <td>spam</td>\n",
       "      <td>155</td>\n",
       "      <td>1</td>\n",
       "    </tr>\n",
       "    <tr>\n",
       "      <th>3</th>\n",
       "      <td>U dun say so early hor... U c already then say...</td>\n",
       "      <td>ham</td>\n",
       "      <td>49</td>\n",
       "      <td>2</td>\n",
       "    </tr>\n",
       "    <tr>\n",
       "      <th>4</th>\n",
       "      <td>Nah I don't think he goes to usf, he lives aro...</td>\n",
       "      <td>ham</td>\n",
       "      <td>61</td>\n",
       "      <td>1</td>\n",
       "    </tr>\n",
       "  </tbody>\n",
       "</table>\n",
       "</div>"
      ],
      "text/plain": [
       "                                             Message Label  Message_Length  \\\n",
       "0  Go until jurong point, crazy.. Available only ...   ham             111   \n",
       "1                      Ok lar... Joking wif u oni...   ham              29   \n",
       "2  Free entry in 2 a wkly comp to win FA Cup fina...  spam             155   \n",
       "3  U dun say so early hor... U c already then say...   ham              49   \n",
       "4  Nah I don't think he goes to usf, he lives aro...   ham              61   \n",
       "\n",
       "   Punct_Length  \n",
       "0             4  \n",
       "1             2  \n",
       "2             1  \n",
       "3             2  \n",
       "4             1  "
      ]
     },
     "execution_count": 5,
     "metadata": {},
     "output_type": "execute_result"
    }
   ],
   "source": [
    "# Add features\n",
    "msgs['Message_Length'] = msgs['Message'].str.len()\n",
    "msgs['Punct_Length'] = msgs['Message'].apply(punct_length)\n",
    "\n",
    "msgs.head()"
   ]
  },
  {
   "cell_type": "code",
   "execution_count": 6,
   "metadata": {},
   "outputs": [
    {
     "data": {
      "text/html": [
       "<div>\n",
       "<style scoped>\n",
       "    .dataframe tbody tr th:only-of-type {\n",
       "        vertical-align: middle;\n",
       "    }\n",
       "\n",
       "    .dataframe tbody tr th {\n",
       "        vertical-align: top;\n",
       "    }\n",
       "\n",
       "    .dataframe thead tr th {\n",
       "        text-align: left;\n",
       "    }\n",
       "\n",
       "    .dataframe thead tr:last-of-type th {\n",
       "        text-align: right;\n",
       "    }\n",
       "</style>\n",
       "<table border=\"1\" class=\"dataframe\">\n",
       "  <thead>\n",
       "    <tr>\n",
       "      <th></th>\n",
       "      <th colspan=\"6\" halign=\"left\">Message_Length</th>\n",
       "      <th colspan=\"6\" halign=\"left\">Punct_Length</th>\n",
       "    </tr>\n",
       "    <tr>\n",
       "      <th></th>\n",
       "      <th>count</th>\n",
       "      <th>mean</th>\n",
       "      <th>std</th>\n",
       "      <th>min</th>\n",
       "      <th>50%</th>\n",
       "      <th>max</th>\n",
       "      <th>count</th>\n",
       "      <th>mean</th>\n",
       "      <th>std</th>\n",
       "      <th>min</th>\n",
       "      <th>50%</th>\n",
       "      <th>max</th>\n",
       "    </tr>\n",
       "    <tr>\n",
       "      <th>Label</th>\n",
       "      <th></th>\n",
       "      <th></th>\n",
       "      <th></th>\n",
       "      <th></th>\n",
       "      <th></th>\n",
       "      <th></th>\n",
       "      <th></th>\n",
       "      <th></th>\n",
       "      <th></th>\n",
       "      <th></th>\n",
       "      <th></th>\n",
       "      <th></th>\n",
       "    </tr>\n",
       "  </thead>\n",
       "  <tbody>\n",
       "    <tr>\n",
       "      <th>ham</th>\n",
       "      <td>4825.0</td>\n",
       "      <td>71.482487</td>\n",
       "      <td>58.440652</td>\n",
       "      <td>2.0</td>\n",
       "      <td>52.0</td>\n",
       "      <td>910.0</td>\n",
       "      <td>4825.0</td>\n",
       "      <td>2.410155</td>\n",
       "      <td>2.872400</td>\n",
       "      <td>0.0</td>\n",
       "      <td>2.0</td>\n",
       "      <td>75.0</td>\n",
       "    </tr>\n",
       "    <tr>\n",
       "      <th>spam</th>\n",
       "      <td>747.0</td>\n",
       "      <td>138.670683</td>\n",
       "      <td>28.873603</td>\n",
       "      <td>13.0</td>\n",
       "      <td>149.0</td>\n",
       "      <td>223.0</td>\n",
       "      <td>747.0</td>\n",
       "      <td>3.993307</td>\n",
       "      <td>2.657118</td>\n",
       "      <td>0.0</td>\n",
       "      <td>4.0</td>\n",
       "      <td>21.0</td>\n",
       "    </tr>\n",
       "  </tbody>\n",
       "</table>\n",
       "</div>"
      ],
      "text/plain": [
       "      Message_Length                                            Punct_Length  \\\n",
       "               count        mean        std   min    50%    max        count   \n",
       "Label                                                                          \n",
       "ham           4825.0   71.482487  58.440652   2.0   52.0  910.0       4825.0   \n",
       "spam           747.0  138.670683  28.873603  13.0  149.0  223.0        747.0   \n",
       "\n",
       "                                           \n",
       "           mean       std  min  50%   max  \n",
       "Label                                      \n",
       "ham    2.410155  2.872400  0.0  2.0  75.0  \n",
       "spam   3.993307  2.657118  0.0  4.0  21.0  "
      ]
     },
     "execution_count": 6,
     "metadata": {},
     "output_type": "execute_result"
    }
   ],
   "source": [
    "# descriptive statistics\n",
    "msgs.groupby(['Label']).describe(percentiles=[.5])"
   ]
  },
  {
   "cell_type": "code",
   "execution_count": 7,
   "metadata": {},
   "outputs": [
    {
     "data": {
      "image/png": "[encoded data removed]",
      "text/plain": [
       "<Figure size 504x252 with 2 Axes>"
      ]
     },
     "metadata": {},
     "output_type": "display_data"
    }
   ],
   "source": [
    "# histogram of the Message_Length\n",
    "f = sns.FacetGrid(data=msgs, col='Label', height=3.5)\n",
    "f.map(plt.hist, 'Message_Length')\n",
    "plt.show()"
   ]
  },
  {
   "cell_type": "code",
   "execution_count": 8,
   "metadata": {},
   "outputs": [
    {
     "data": {
      "image/png": "[encoded data removed]",
      "text/plain": [
       "<Figure size 504x252 with 2 Axes>"
      ]
     },
     "metadata": {},
     "output_type": "display_data"
    }
   ],
   "source": [
    "# histogram of the Message_Length\n",
    "f = sns.FacetGrid(data=msgs, col='Label', height=3.5)\n",
    "f.map(plt.hist, 'Punct_Length')\n",
    "plt.show()"
   ]
  },
  {
   "cell_type": "markdown",
   "metadata": {},
   "source": [
    "#### Comment:\n",
    "* `Message_Length` is longer for **'spam'** messages than **'ham'** messages.\n",
    "* There's no apparent difference in `Message_Length` between the **'ham'** and **'spam'** messages."
   ]
  },
  {
   "cell_type": "code",
   "execution_count": 9,
   "metadata": {
    "tags": [
     "ye"
    ]
   },
   "outputs": [
    {
     "data": {
      "image/png": "[encoded data removed]",
      "text/plain": [
       "<Figure size 720x288 with 2 Axes>"
      ]
     },
     "metadata": {},
     "output_type": "display_data"
    }
   ],
   "source": [
    "# boxplot\n",
    "nrows, ncols = 1, 2\n",
    "\n",
    "fig, axs = plt.subplots(nrows, ncols, figsize=(nrows * 10, ncols * 2))\n",
    "\n",
    "for idx, col in enumerate(['Message_Length', 'Punct_Length']):\n",
    "    ax = axs[idx]\n",
    "    sns.boxplot(x='Label', y=col, data=msgs, ax=ax)\n",
    "    ax.set(title=f\"Boxplot of {col}\", xlabel=col)\n",
    "    \n",
    "fig.tight_layout()\n",
    "plt.show()"
   ]
  },
  {
   "cell_type": "markdown",
   "metadata": {},
   "source": [
    "#### Comment:\n",
    "* There are outliers in the `Message_Length` and `Punct_Length` **ham** messages."
   ]
  },
  {
   "cell_type": "code",
   "execution_count": 10,
   "metadata": {
    "tags": []
   },
   "outputs": [],
   "source": [
    "X = msgs.drop(columns=['Message', 'Label'])       # independent features\n",
    "y = msgs['Label']                                 # target "
   ]
  },
  {
   "cell_type": "code",
   "execution_count": 11,
   "metadata": {},
   "outputs": [],
   "source": [
    "from sklearn.model_selection import train_test_split"
   ]
  },
  {
   "cell_type": "code",
   "execution_count": 12,
   "metadata": {},
   "outputs": [],
   "source": [
    "X_train, X_test, y_train, y_test = train_test_split(X, y, test_size=0.2, random_state=123)"
   ]
  },
  {
   "cell_type": "code",
   "execution_count": 13,
   "metadata": {},
   "outputs": [],
   "source": [
    "from sklearn.pipeline import Pipeline\n",
    "from sklearn.ensemble import RandomForestClassifier\n",
    "from sklearn.naive_bayes import MultinomialNB\n",
    "from sklearn.svm import SVC\n",
    "from sklearn.ensemble import AdaBoostClassifier\n",
    "from sklearn.ensemble import GradientBoostingClassifier"
   ]
  },
  {
   "cell_type": "code",
   "execution_count": 14,
   "metadata": {},
   "outputs": [],
   "source": [
    "rf_pipe = Pipeline([\n",
    "    ('clf', RandomForestClassifier())\n",
    "])"
   ]
  },
  {
   "cell_type": "code",
   "execution_count": 15,
   "metadata": {},
   "outputs": [
    {
     "data": {
      "text/plain": [
       "Pipeline(steps=[('clf', RandomForestClassifier())])"
      ]
     },
     "execution_count": 15,
     "metadata": {},
     "output_type": "execute_result"
    }
   ],
   "source": [
    "# train model\n",
    "rf_pipe.fit(X_train, y_train)"
   ]
  },
  {
   "cell_type": "code",
   "execution_count": 16,
   "metadata": {},
   "outputs": [],
   "source": [
    "# predict\n",
    "rf_pred = rf_pipe.predict(X_test)"
   ]
  },
  {
   "cell_type": "code",
   "execution_count": 17,
   "metadata": {},
   "outputs": [],
   "source": [
    "from sklearn import metrics"
   ]
  },
  {
   "cell_type": "code",
   "execution_count": 18,
   "metadata": {},
   "outputs": [
    {
     "name": "stdout",
     "output_type": "stream",
     "text": [
      "Classification Report: \n",
      "              precision    recall  f1-score   support\n",
      "\n",
      "         ham       0.92      0.94      0.93       962\n",
      "        spam       0.56      0.50      0.53       153\n",
      "\n",
      "    accuracy                           0.88      1115\n",
      "   macro avg       0.74      0.72      0.73      1115\n",
      "weighted avg       0.87      0.88      0.87      1115\n",
      " \n",
      "\n",
      "Confusion Matrix: \n",
      "[[901  61]\n",
      " [ 76  77]])\n"
     ]
    }
   ],
   "source": [
    "# Random Forests\n",
    "classification_report = metrics.classification_report(y_test, rf_pred)\n",
    "confusion_matrix = metrics.confusion_matrix(y_test, rf_pred)\n",
    "\n",
    "print(f\"Classification Report: \\n{classification_report} \\n\\nConfusion Matrix: \\n{confusion_matrix})\")"
   ]
  },
  {
   "cell_type": "code",
   "execution_count": 19,
   "metadata": {},
   "outputs": [
    {
     "data": {
      "text/html": [
       "<div>\n",
       "<style scoped>\n",
       "    .dataframe tbody tr th:only-of-type {\n",
       "        vertical-align: middle;\n",
       "    }\n",
       "\n",
       "    .dataframe tbody tr th {\n",
       "        vertical-align: top;\n",
       "    }\n",
       "\n",
       "    .dataframe thead th {\n",
       "        text-align: right;\n",
       "    }\n",
       "</style>\n",
       "<table border=\"1\" class=\"dataframe\">\n",
       "  <thead>\n",
       "    <tr style=\"text-align: right;\">\n",
       "      <th></th>\n",
       "      <th>Message</th>\n",
       "      <th>Label</th>\n",
       "      <th>Message_Length</th>\n",
       "      <th>Punct_Length</th>\n",
       "    </tr>\n",
       "  </thead>\n",
       "  <tbody>\n",
       "    <tr>\n",
       "      <th>0</th>\n",
       "      <td>Go until jurong point, crazy.. Available only ...</td>\n",
       "      <td>ham</td>\n",
       "      <td>111</td>\n",
       "      <td>4</td>\n",
       "    </tr>\n",
       "    <tr>\n",
       "      <th>1</th>\n",
       "      <td>Ok lar... Joking wif u oni...</td>\n",
       "      <td>ham</td>\n",
       "      <td>29</td>\n",
       "      <td>2</td>\n",
       "    </tr>\n",
       "  </tbody>\n",
       "</table>\n",
       "</div>"
      ],
      "text/plain": [
       "                                             Message Label  Message_Length  \\\n",
       "0  Go until jurong point, crazy.. Available only ...   ham             111   \n",
       "1                      Ok lar... Joking wif u oni...   ham              29   \n",
       "\n",
       "   Punct_Length  \n",
       "0             4  \n",
       "1             2  "
      ]
     },
     "execution_count": 19,
     "metadata": {},
     "output_type": "execute_result"
    }
   ],
   "source": [
    "msgs.head(2)"
   ]
  },
  {
   "cell_type": "code",
   "execution_count": 20,
   "metadata": {},
   "outputs": [],
   "source": [
    "X = msgs['Message']\n",
    "y = msgs['Label']\n",
    "\n",
    "X_train, X_test, y_train, y_test = train_test_split(X, y, test_size=0.2, random_state=123)"
   ]
  },
  {
   "cell_type": "code",
   "execution_count": 21,
   "metadata": {},
   "outputs": [],
   "source": [
    "from sklearn.feature_extraction.text import TfidfVectorizer"
   ]
  },
  {
   "cell_type": "code",
   "execution_count": 22,
   "metadata": {},
   "outputs": [],
   "source": [
    "rf_pipe = {'rf': Pipeline([\n",
    "    ('bow_tfidf', TfidfVectorizer(analyzer=clean_doc)),\n",
    "    ('clf', RandomForestClassifier())\n",
    "    ])}\n",
    "\n",
    "mnb_pipe = {'mnb': Pipeline([\n",
    "    ('bow_tfidf', TfidfVectorizer(analyzer=clean_doc)),\n",
    "    ('clf', MultinomialNB())\n",
    "    ])}\n",
    "\n",
    "svc_pipe = {'svc': Pipeline([\n",
    "    ('bow_tfidf', TfidfVectorizer(analyzer=clean_doc)),\n",
    "    ('clf', SVC())\n",
    "    ])}\n",
    "\n",
    "ada_pipe = {'ada': Pipeline([\n",
    "    ('bow_tfidf', TfidfVectorizer(analyzer=clean_doc)),\n",
    "    ('clf', AdaBoostClassifier())\n",
    "    ])}\n",
    "\n",
    "grad_boost_pipe = {'grad_boost': Pipeline([\n",
    "    ('bow_tfidf', TfidfVectorizer(analyzer=clean_doc)),\n",
    "    ('clf', GradientBoostingClassifier())\n",
    "    ])}\n",
    "\n",
    "models = [rf_pipe, mnb_pipe, svc_pipe, ada_pipe, grad_boost_pipe]"
   ]
  },
  {
   "cell_type": "code",
   "execution_count": 23,
   "metadata": {},
   "outputs": [
    {
     "name": "stdout",
     "output_type": "stream",
     "text": [
      "Model name: rf\n",
      "Classification Report: \n",
      "              precision    recall  f1-score   support\n",
      "\n",
      "         ham       0.97      1.00      0.99       962\n",
      "        spam       1.00      0.83      0.91       153\n",
      "\n",
      "    accuracy                           0.98      1115\n",
      "   macro avg       0.99      0.92      0.95      1115\n",
      "weighted avg       0.98      0.98      0.98      1115\n",
      " \n",
      "\n",
      "Confusion Matrix: \n",
      "[[962   0]\n",
      " [ 26 127]])\n",
      "==========================================================================================\n",
      "Model name: mnb\n",
      "Classification Report: \n",
      "              precision    recall  f1-score   support\n",
      "\n",
      "         ham       0.97      1.00      0.98       962\n",
      "        spam       1.00      0.78      0.88       153\n",
      "\n",
      "    accuracy                           0.97      1115\n",
      "   macro avg       0.98      0.89      0.93      1115\n",
      "weighted avg       0.97      0.97      0.97      1115\n",
      " \n",
      "\n",
      "Confusion Matrix: \n",
      "[[962   0]\n",
      " [ 34 119]])\n",
      "==========================================================================================\n",
      "Model name: svc\n",
      "Classification Report: \n",
      "              precision    recall  f1-score   support\n",
      "\n",
      "         ham       0.97      1.00      0.99       962\n",
      "        spam       1.00      0.81      0.90       153\n",
      "\n",
      "    accuracy                           0.97      1115\n",
      "   macro avg       0.99      0.91      0.94      1115\n",
      "weighted avg       0.97      0.97      0.97      1115\n",
      " \n",
      "\n",
      "Confusion Matrix: \n",
      "[[962   0]\n",
      " [ 29 124]])\n",
      "==========================================================================================\n",
      "Model name: ada\n",
      "Classification Report: \n",
      "              precision    recall  f1-score   support\n",
      "\n",
      "         ham       0.97      0.99      0.98       962\n",
      "        spam       0.93      0.82      0.87       153\n",
      "\n",
      "    accuracy                           0.97      1115\n",
      "   macro avg       0.95      0.91      0.93      1115\n",
      "weighted avg       0.97      0.97      0.97      1115\n",
      " \n",
      "\n",
      "Confusion Matrix: \n",
      "[[952  10]\n",
      " [ 27 126]])\n",
      "==========================================================================================\n",
      "Model name: grad_boost\n",
      "Classification Report: \n",
      "              precision    recall  f1-score   support\n",
      "\n",
      "         ham       0.95      1.00      0.97       962\n",
      "        spam       1.00      0.66      0.80       153\n",
      "\n",
      "    accuracy                           0.95      1115\n",
      "   macro avg       0.97      0.83      0.88      1115\n",
      "weighted avg       0.96      0.95      0.95      1115\n",
      " \n",
      "\n",
      "Confusion Matrix: \n",
      "[[962   0]\n",
      " [ 52 101]])\n",
      "==========================================================================================\n"
     ]
    }
   ],
   "source": [
    "for model_name in models:\n",
    "    for key, estimator in model_name.items():\n",
    "        # fit the model\n",
    "        estimator.fit(X_train, y_train)\n",
    "    \n",
    "        # make predictions\n",
    "        pred = estimator.predict(X_test)\n",
    "\n",
    "        classification_report = metrics.classification_report(y_test, pred)\n",
    "        confusion_matrix = metrics.confusion_matrix(y_test, pred)\n",
    "\n",
    "        print(f\"Model name: {key}\")\n",
    "        print(f\"Classification Report: \\n{classification_report} \\n\\nConfusion Matrix: \\n{confusion_matrix})\")\n",
    "        print(\"===\" * 30)"
   ]
  },
  {
   "cell_type": "markdown",
   "metadata": {},
   "source": [
    "### Tune the models."
   ]
  },
  {
   "cell_type": "code",
   "execution_count": 24,
   "metadata": {},
   "outputs": [],
   "source": [
    "y_binary = msgs['Label']\n",
    "y_binary = y_binary.map({'spam': 1, 'ham': 0})"
   ]
  },
  {
   "cell_type": "code",
   "execution_count": 25,
   "metadata": {},
   "outputs": [],
   "source": [
    "from sklearn.model_selection import RandomizedSearchCV"
   ]
  },
  {
   "cell_type": "code",
   "execution_count": 26,
   "metadata": {},
   "outputs": [],
   "source": [
    "tfidf_vec = TfidfVectorizer(analyzer=clean_doc)\n",
    "X_vec = tfidf_vec.fit_transform(X)"
   ]
  },
  {
   "cell_type": "code",
   "execution_count": 27,
   "metadata": {},
   "outputs": [],
   "source": [
    "from scipy import stats\n",
    "\n",
    "rf_params = dict(n_estimators=[10, 20, 40, 50, 70, 100, 110, 120, 130, 150], min_samples_leaf=np.arange(1, 15, 2))\n",
    "\n",
    "svc_params = dict(C=stats.uniform(1, 10), gamma=stats.uniform(0.1, 1))"
   ]
  },
  {
   "cell_type": "code",
   "execution_count": 28,
   "metadata": {},
   "outputs": [],
   "source": [
    "rf_rd_search = RandomizedSearchCV(RandomForestClassifier(), rf_params, scoring='f1')\n",
    "\n",
    "svc_rd_search = RandomizedSearchCV(SVC(), svc_params, scoring='f1')"
   ]
  },
  {
   "cell_type": "code",
   "execution_count": 29,
   "metadata": {},
   "outputs": [
    {
     "data": {
      "text/plain": [
       "RandomizedSearchCV(estimator=RandomForestClassifier(),\n",
       "                   param_distributions={'min_samples_leaf': array([ 1,  3,  5,  7,  9, 11, 13]),\n",
       "                                        'n_estimators': [10, 20, 40, 50, 70,\n",
       "                                                         100, 110, 120, 130,\n",
       "                                                         150]},\n",
       "                   scoring='f1')"
      ]
     },
     "execution_count": 29,
     "metadata": {},
     "output_type": "execute_result"
    }
   ],
   "source": [
    "rf_rd_search.fit(X_vec, y_binary)"
   ]
  },
  {
   "cell_type": "code",
   "execution_count": 30,
   "metadata": {},
   "outputs": [
    {
     "data": {
      "text/plain": [
       "{'n_estimators': 130, 'min_samples_leaf': 3}"
      ]
     },
     "execution_count": 30,
     "metadata": {},
     "output_type": "execute_result"
    }
   ],
   "source": [
    "rf_rd_search.best_params_"
   ]
  },
  {
   "cell_type": "code",
   "execution_count": 31,
   "metadata": {},
   "outputs": [
    {
     "data": {
      "text/plain": [
       "RandomizedSearchCV(estimator=SVC(),\n",
       "                   param_distributions={'C': <scipy.stats._distn_infrastructure.rv_frozen object at 0x000001910A8C53D0>,\n",
       "                                        'gamma': <scipy.stats._distn_infrastructure.rv_frozen object at 0x000001910A8C5DC0>},\n",
       "                   scoring='f1')"
      ]
     },
     "execution_count": 31,
     "metadata": {},
     "output_type": "execute_result"
    }
   ],
   "source": [
    "svc_rd_search.fit(X_vec, y_binary)"
   ]
  },
  {
   "cell_type": "code",
   "execution_count": 32,
   "metadata": {},
   "outputs": [
    {
     "data": {
      "text/plain": [
       "{'C': 8.766711282900705, 'gamma': 0.25644595946275217}"
      ]
     },
     "execution_count": 32,
     "metadata": {},
     "output_type": "execute_result"
    }
   ],
   "source": [
    "svc_rd_search.best_params_"
   ]
  },
  {
   "cell_type": "code",
   "execution_count": null,
   "metadata": {},
   "outputs": [],
   "source": []
  },
  {
   "cell_type": "code",
   "execution_count": 33,
   "metadata": {},
   "outputs": [],
   "source": [
    "rf_pipe = {'rf': Pipeline([\n",
    "    ('bow_tfidf', TfidfVectorizer(analyzer=clean_doc)),\n",
    "    ('clf', RandomForestClassifier(n_estimators= 50, min_samples_leaf= 1))\n",
    "    ])}\n",
    "\n",
    "\n",
    "svc_pipe = {'svc': Pipeline([\n",
    "    ('bow_tfidf', TfidfVectorizer(analyzer=clean_doc)),\n",
    "    ('clf', SVC(C=10.58557111792439, gamma= 0.11741959169299468))\n",
    "    ])}\n",
    "\n",
    "\n",
    "models = [rf_pipe, svc_pipe]"
   ]
  },
  {
   "cell_type": "code",
   "execution_count": 34,
   "metadata": {},
   "outputs": [
    {
     "name": "stdout",
     "output_type": "stream",
     "text": [
      "Model name: rf\n",
      "Classification Report: \n",
      "              precision    recall  f1-score   support\n",
      "\n",
      "         ham       0.97      1.00      0.99       962\n",
      "        spam       0.99      0.84      0.91       153\n",
      "\n",
      "    accuracy                           0.98      1115\n",
      "   macro avg       0.98      0.92      0.95      1115\n",
      "weighted avg       0.98      0.98      0.98      1115\n",
      " \n",
      "\n",
      "Confusion Matrix: \n",
      "[[961   1]\n",
      " [ 25 128]])\n",
      "==========================================================================================\n",
      "Model name: svc\n",
      "Classification Report: \n",
      "              precision    recall  f1-score   support\n",
      "\n",
      "         ham       0.99      1.00      0.99       962\n",
      "        spam       0.99      0.92      0.95       153\n",
      "\n",
      "    accuracy                           0.99      1115\n",
      "   macro avg       0.99      0.96      0.97      1115\n",
      "weighted avg       0.99      0.99      0.99      1115\n",
      " \n",
      "\n",
      "Confusion Matrix: \n",
      "[[960   2]\n",
      " [ 12 141]])\n",
      "==========================================================================================\n"
     ]
    }
   ],
   "source": [
    "for model_name in models:\n",
    "    for key, estimator in model_name.items():\n",
    "        # fit the model\n",
    "        estimator.fit(X_train, y_train)\n",
    "    \n",
    "        # make predictions\n",
    "        pred = estimator.predict(X_test)\n",
    "\n",
    "        classification_report = metrics.classification_report(y_test, pred)\n",
    "        confusion_matrix = metrics.confusion_matrix(y_test, pred)\n",
    "\n",
    "        print(f\"Model name: {key}\")\n",
    "        print(f\"Classification Report: \\n{classification_report} \\n\\nConfusion Matrix: \\n{confusion_matrix})\")\n",
    "        print(\"===\" * 30)"
   ]
  },
  {
   "cell_type": "code",
   "execution_count": 35,
   "metadata": {},
   "outputs": [
    {
     "data": {
      "text/plain": [
       "Pipeline(steps=[('bow_tfidf',\n",
       "                 TfidfVectorizer(analyzer=<function clean_doc at 0x0000019104B51550>)),\n",
       "                ('clf', SVC(C=10.58557111792439, gamma=0.11741959169299468))])"
      ]
     },
     "execution_count": 35,
     "metadata": {},
     "output_type": "execute_result"
    }
   ],
   "source": [
    "clf = Pipeline([\n",
    "    ('bow_tfidf', TfidfVectorizer(analyzer=clean_doc)),\n",
    "    ('clf', SVC(C=10.58557111792439, gamma= 0.11741959169299468))\n",
    "    ])\n",
    "\n",
    "clf.fit(X, y)"
   ]
  },
  {
   "cell_type": "code",
   "execution_count": 36,
   "metadata": {},
   "outputs": [],
   "source": [
    "import pickle\n",
    "# pickle.format_version\n",
    "\n",
    "# save model\n",
    "with open(\"models/svc_classifier.pkl\", \"wb\") as f:\n",
    "    pickle.dump(clf, f)"
   ]
  },
  {
   "cell_type": "code",
   "execution_count": 37,
   "metadata": {},
   "outputs": [],
   "source": [
    "# load model\n",
    "with open(\"models/svc_classifier.pkl\", \"rb\") as f:\n",
    "    loaded_model = pickle.load(f)"
   ]
  },
  {
   "cell_type": "code",
   "execution_count": 38,
   "metadata": {},
   "outputs": [
    {
     "data": {
      "text/plain": [
       "'Even my brother is not like to speak with me. They treat me like aids patent.'"
      ]
     },
     "execution_count": 38,
     "metadata": {},
     "output_type": "execute_result"
    }
   ],
   "source": [
    "# use the loaded model\n",
    "\n",
    "msg = msgs['Message'][6]\n",
    "msg"
   ]
  },
  {
   "cell_type": "code",
   "execution_count": 39,
   "metadata": {},
   "outputs": [
    {
     "data": {
      "text/plain": [
       "array(['ham'], dtype=object)"
      ]
     },
     "execution_count": 39,
     "metadata": {},
     "output_type": "execute_result"
    }
   ],
   "source": [
    "loaded_model.predict([msg])"
   ]
  },
  {
   "cell_type": "code",
   "execution_count": 40,
   "metadata": {},
   "outputs": [
    {
     "data": {
      "text/plain": [
       "'This is the 2nd time we have tried 2 contact u. U have won the £750 Pound prize. 2 claim is easy, call 087187272008 NOW1! Only 10p per minute. BT-national-rate.'"
      ]
     },
     "execution_count": 40,
     "metadata": {},
     "output_type": "execute_result"
    }
   ],
   "source": [
    "msg = msgs['Message'][5567]\n",
    "msg"
   ]
  },
  {
   "cell_type": "code",
   "execution_count": 41,
   "metadata": {},
   "outputs": [
    {
     "data": {
      "text/plain": [
       "array(['spam'], dtype=object)"
      ]
     },
     "execution_count": 41,
     "metadata": {},
     "output_type": "execute_result"
    }
   ],
   "source": [
    "loaded_model.predict([msg])"
   ]
  },
  {
   "cell_type": "code",
   "execution_count": null,
   "metadata": {},
   "outputs": [],
   "source": []
  }
 ],
 "metadata": {
  "kernelspec": {
   "display_name": "Python 3",
   "language": "python",
   "name": "python3"
  },
  "language_info": {
   "codemirror_mode": {
    "name": "ipython",
    "version": 3
   },
   "file_extension": ".py",
   "mimetype": "text/x-python",
   "name": "python",
   "nbconvert_exporter": "python",
   "pygments_lexer": "ipython3",
   "version": "3.8.5"
  }
 },
 "nbformat": 4,
 "nbformat_minor": 4
}
